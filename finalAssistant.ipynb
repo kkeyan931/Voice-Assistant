{
 "cells": [
  {
   "cell_type": "code",
   "execution_count": 6,
   "metadata": {},
   "outputs": [
    {
     "name": "stdout",
     "output_type": "stream",
     "text": [
      "Collecting pyowm\n",
      "  Downloading pyowm-3.2.0-py3-none-any.whl (3.1 MB)\n",
      "\u001b[K     |████████████████████████████████| 3.1 MB 297 kB/s eta 0:00:01\n",
      "\u001b[?25hCollecting geojson<3,>=2.3.0\n",
      "  Downloading geojson-2.5.0-py2.py3-none-any.whl (14 kB)\n",
      "Requirement already satisfied: requests<3,>=2.20.0 in /home/karthikn/anaconda3/lib/python3.8/site-packages (from pyowm) (2.24.0)\n",
      "Requirement already satisfied: PySocks<2,>=1.7.1 in /home/karthikn/anaconda3/lib/python3.8/site-packages (from pyowm) (1.7.1)\n",
      "Requirement already satisfied: certifi>=2017.4.17 in /home/karthikn/anaconda3/lib/python3.8/site-packages (from requests<3,>=2.20.0->pyowm) (2020.6.20)\n",
      "Requirement already satisfied: idna<3,>=2.5 in /home/karthikn/anaconda3/lib/python3.8/site-packages (from requests<3,>=2.20.0->pyowm) (2.10)\n",
      "Requirement already satisfied: urllib3!=1.25.0,!=1.25.1,<1.26,>=1.21.1 in /home/karthikn/anaconda3/lib/python3.8/site-packages (from requests<3,>=2.20.0->pyowm) (1.25.11)\n",
      "Requirement already satisfied: chardet<4,>=3.0.2 in /home/karthikn/anaconda3/lib/python3.8/site-packages (from requests<3,>=2.20.0->pyowm) (3.0.4)\n",
      "Installing collected packages: geojson, pyowm\n",
      "Successfully installed geojson-2.5.0 pyowm-3.2.0\n"
     ]
    }
   ],
   "source": [
    "!pip install pyowm"
   ]
  },
  {
   "cell_type": "code",
   "execution_count": 2,
   "metadata": {},
   "outputs": [
    {
     "name": "stdout",
     "output_type": "stream",
     "text": [
      "Collecting SpeechRecognition\n",
      "  Downloading SpeechRecognition-3.8.1-py2.py3-none-any.whl (32.8 MB)\n",
      "\u001b[K     |████████████████████████████████| 32.8 MB 454 kB/s eta 0:00:01\n",
      "\u001b[?25hInstalling collected packages: SpeechRecognition\n",
      "Successfully installed SpeechRecognition-3.8.1\n"
     ]
    }
   ],
   "source": [
    "!pip install SpeechRecognition"
   ]
  },
  {
   "cell_type": "code",
   "execution_count": 4,
   "metadata": {},
   "outputs": [
    {
     "name": "stdout",
     "output_type": "stream",
     "text": [
      "Collecting pyttsx3\n",
      "  Downloading pyttsx3-2.90-py3-none-any.whl (39 kB)\n",
      "Installing collected packages: pyttsx3\n",
      "Successfully installed pyttsx3-2.90\n"
     ]
    }
   ],
   "source": [
    "!pip install pyttsx3"
   ]
  },
  {
   "cell_type": "code",
   "execution_count": 8,
   "metadata": {},
   "outputs": [
    {
     "name": "stdout",
     "output_type": "stream",
     "text": [
      "Collecting youtube-dl\n",
      "  Downloading youtube_dl-2021.3.14-py2.py3-none-any.whl (1.9 MB)\n",
      "\u001b[K     |████████████████████████████████| 1.9 MB 413 kB/s eta 0:00:01\n",
      "\u001b[?25hInstalling collected packages: youtube-dl\n",
      "Successfully installed youtube-dl-2021.3.14\n"
     ]
    }
   ],
   "source": [
    "!pip install youtube-dl"
   ]
  },
  {
   "cell_type": "code",
   "execution_count": 20,
   "metadata": {},
   "outputs": [
    {
     "name": "stdout",
     "output_type": "stream",
     "text": [
      "Collecting python-vlc\n",
      "  Downloading python_vlc-3.0.11115-py3-none-any.whl (80 kB)\n",
      "Installing collected packages: python-vlc\n",
      "Successfully installed python-vlc-3.0.11115\n"
     ]
    }
   ],
   "source": [
    "!pip install python-vlc"
   ]
  },
  {
   "cell_type": "code",
   "execution_count": 28,
   "metadata": {},
   "outputs": [
    {
     "name": "stdout",
     "output_type": "stream",
     "text": [
      "Requirement already satisfied: urllib3 in c:\\users\\karthikn\\anaconda3\\lib\\site-packages (1.25.11)\n"
     ]
    }
   ],
   "source": [
    "!pip install urllib3"
   ]
  },
  {
   "cell_type": "code",
   "execution_count": 10,
   "metadata": {},
   "outputs": [
    {
     "name": "stdout",
     "output_type": "stream",
     "text": [
      "Collecting wikipedia\n",
      "  Downloading wikipedia-1.4.0.tar.gz (27 kB)\n",
      "Requirement already satisfied: beautifulsoup4 in /home/karthikn/anaconda3/lib/python3.8/site-packages (from wikipedia) (4.9.3)\n",
      "Requirement already satisfied: requests<3.0.0,>=2.0.0 in /home/karthikn/anaconda3/lib/python3.8/site-packages (from wikipedia) (2.24.0)\n",
      "Requirement already satisfied: soupsieve>1.2; python_version >= \"3.0\" in /home/karthikn/anaconda3/lib/python3.8/site-packages (from beautifulsoup4->wikipedia) (2.0.1)\n",
      "Requirement already satisfied: urllib3!=1.25.0,!=1.25.1,<1.26,>=1.21.1 in /home/karthikn/anaconda3/lib/python3.8/site-packages (from requests<3.0.0,>=2.0.0->wikipedia) (1.25.11)\n",
      "Requirement already satisfied: chardet<4,>=3.0.2 in /home/karthikn/anaconda3/lib/python3.8/site-packages (from requests<3.0.0,>=2.0.0->wikipedia) (3.0.4)\n",
      "Requirement already satisfied: certifi>=2017.4.17 in /home/karthikn/anaconda3/lib/python3.8/site-packages (from requests<3.0.0,>=2.0.0->wikipedia) (2020.6.20)\n",
      "Requirement already satisfied: idna<3,>=2.5 in /home/karthikn/anaconda3/lib/python3.8/site-packages (from requests<3.0.0,>=2.0.0->wikipedia) (2.10)\n",
      "Building wheels for collected packages: wikipedia\n",
      "  Building wheel for wikipedia (setup.py) ... \u001b[?25ldone\n",
      "\u001b[?25h  Created wheel for wikipedia: filename=wikipedia-1.4.0-py3-none-any.whl size=11686 sha256=107df07c3b8633ecbff247dca5a381d861fd8cb41fcf3bfb52dc779688763e6e\n",
      "  Stored in directory: /home/karthikn/.cache/pip/wheels/07/93/05/72c05349177dca2e0ba31a33ba4f7907606f7ddef303517c6a\n",
      "Successfully built wikipedia\n",
      "Installing collected packages: wikipedia\n",
      "Successfully installed wikipedia-1.4.0\n"
     ]
    }
   ],
   "source": [
    "!pip install wikipedia"
   ]
  },
  {
   "cell_type": "code",
   "execution_count": 39,
   "metadata": {},
   "outputs": [],
   "source": [
    "import speech_recognition as sr\n",
    "import pyttsx3\n",
    "import os\n",
    "import sys\n",
    "import re\n",
    "import webbrowser\n",
    "import smtplib\n",
    "import requests\n",
    "import subprocess\n",
    "from pyowm import OWM\n",
    "import youtube_dl\n",
    "#import vlc\n",
    "import urllib\n",
    "#import urllib2\n",
    "import urllib.request as urllib2\n",
    "import json\n",
    "from bs4 import BeautifulSoup as soup\n",
    "from urllib.request import urlopen\n",
    "import wikipedia\n",
    "import random\n",
    "from time import strftime\n",
    "import datetime"
   ]
  },
  {
   "cell_type": "code",
   "execution_count": 13,
   "metadata": {},
   "outputs": [],
   "source": [
    "def sofiaResponse(audio):\n",
    "    \"speaks audio passed as argument\"\n",
    "    print(audio)\n",
    "    engine = pyttsx3.init()\n",
    "    engine.say(audio)\n",
    "    engine.runAndWait()\n",
    "    \n",
    "    for line in audio.splitlines():\n",
    "        os.system(\"say \" + audio)"
   ]
  },
  {
   "cell_type": "code",
   "execution_count": 14,
   "metadata": {},
   "outputs": [],
   "source": [
    "def myCommand():\n",
    "    \"listens for commands\"\n",
    "    r = sr.Recognizer()\n",
    "    with sr.Microphone() as source:\n",
    "        print('Say something...')\n",
    "        r.pause_threshold = 1\n",
    "        r.adjust_for_ambient_noise(source, duration=1)\n",
    "        audio = r.listen(source)\n",
    "    try:\n",
    "        command = r.recognize_google(audio).lower()\n",
    "        print('You said: ' + command + '\\n')\n",
    "    except sr.UnknownValueError:\n",
    "        print('....')\n",
    "        command = myCommand();\n",
    "    return command"
   ]
  },
  {
   "cell_type": "code",
   "execution_count": 15,
   "metadata": {},
   "outputs": [],
   "source": [
    "def reddit(command):    \n",
    "    reg_ex = re.search('open reddit (.*)', command)\n",
    "    url = 'https://www.reddit.com/'\n",
    "    if reg_ex:\n",
    "        subreddit = reg_ex.group(1)\n",
    "        url = url + 'r/' + subreddit\n",
    "        \n",
    "    webbrowser.open(url)\n",
    "    sofiaResponse('The Reddit content has been opened for you Sir.')"
   ]
  },
  {
   "cell_type": "code",
   "execution_count": 16,
   "metadata": {},
   "outputs": [],
   "source": [
    "def shutDown():\n",
    "    sofiaResponse('Bye bye Sir. Have a nice day')\n",
    "    sys.exit()"
   ]
  },
  {
   "cell_type": "code",
   "execution_count": 17,
   "metadata": {},
   "outputs": [],
   "source": [
    "def openWebsite(command):\n",
    "    reg_ex = re.search('open (.+)', command)\n",
    "    if reg_ex:\n",
    "        domain = reg_ex.group(1)\n",
    "        print(domain)\n",
    "        url = 'https://www.' + domain + \".com\"\n",
    "        webbrowser.open(url)\n",
    "        sofiaResponse('The website you have requested has been opened for you Sir.')\n",
    "    else:\n",
    "        pass"
   ]
  },
  {
   "cell_type": "code",
   "execution_count": 18,
   "metadata": {},
   "outputs": [],
   "source": [
    "def greetings():\n",
    "    day_time = int(strftime('%H'))\n",
    "    if day_time < 12:\n",
    "        sofiaResponse('Hello Sir. Good morning')\n",
    "    elif 12 <= day_time < 18:\n",
    "        sofiaResponse('Hello Sir. Good afternoon')\n",
    "    else:\n",
    "        sofiaResponse('Hello Sir. Good evening')"
   ]
  },
  {
   "cell_type": "code",
   "execution_count": 19,
   "metadata": {},
   "outputs": [],
   "source": [
    "def helpMe():\n",
    "    sofiaResponse(\"\"\"\n",
    "            You can use these commands and I'll help you out:1. Open reddit subreddit : Opens the subreddit in default browser.\n",
    "            2. Open xyz.com : replace xyz with any website name\n",
    "            3. Send email/email : Follow up questions such as recipient name, content will be asked in order.\n",
    "            4. Current weather in {cityname} : Tells you the current condition and temperture\n",
    "            5. Hello\n",
    "            6. play me a video : Plays song in your VLC media player\n",
    "            7. change wallpaper : Change desktop wallpaper\n",
    "            8. news for today : reads top news of today\n",
    "            9. time : Current system time\n",
    "            10. top stories from google news (RSS feeds)\n",
    "            11. tell me about xyz : tells you about xyz\"\"\")"
   ]
  },
  {
   "cell_type": "code",
   "execution_count": 20,
   "metadata": {},
   "outputs": [],
   "source": [
    "def joke():\n",
    "    res = requests.get(\n",
    "                'https://icanhazdadjoke.com/',\n",
    "                headers={\"Accept\":\"application/json\"})\n",
    "    if res.status_code == requests.codes.ok:\n",
    "        sofiaResponse(str(res.json()['joke']))\n",
    "    else:\n",
    "        sofiaResponse('oops!I ran out of jokes')"
   ]
  },
  {
   "cell_type": "code",
   "execution_count": 21,
   "metadata": {},
   "outputs": [],
   "source": [
    "def news(): \n",
    "    try:\n",
    "        news_url=\"https://news.google.com/news/rss\"\n",
    "        Client=urlopen(news_url)\n",
    "        xml_page=Client.read()\n",
    "        Client.close()\n",
    "        soup_page=soup(xml_page,\"xml\")\n",
    "        news_list=soup_page.findAll(\"item\")\n",
    "        for news in news_list[:15]:\n",
    "            sofiaResponse(news.title.text.encode('utf-8'))\n",
    "    except Exception as e:\n",
    "        print(e)"
   ]
  },
  {
   "cell_type": "code",
   "execution_count": 22,
   "metadata": {},
   "outputs": [],
   "source": [
    "def weather(command):\n",
    "    reg_ex = re.search('weather in (.*)', command)\n",
    "    if reg_ex:\n",
    "        city = reg_ex.group(1)\n",
    "        owm = OWM('ab0d5e80e8dafb2cb81fa9e82431c1fa')\n",
    "        mgr = owm.weather_manager()\n",
    "        obs = mgr.weather_at_place(city)\n",
    "        w = obs.weather\n",
    "        k = w.detailed_status \n",
    "        x = w.temperature(unit='celsius')\n",
    "        sofiaResponse('Current weather in %s is %s.\\n \\\n",
    "            The maximum temperature is %0.2f and the\\n \\\n",
    "            minimum temperature is %0.2f degree celcius\\n' % (city, k, x['temp_max'], x['temp_min']))"
   ]
  },
  {
   "cell_type": "code",
   "execution_count": 23,
   "metadata": {},
   "outputs": [],
   "source": [
    "def time():\n",
    "    now = datetime.datetime.now()\n",
    "    sofiaResponse('Current time is %d hours %d minutes' % (now.hour, now.minute))"
   ]
  },
  {
   "cell_type": "code",
   "execution_count": 24,
   "metadata": {},
   "outputs": [],
   "source": [
    "def email():\n",
    "    sofiaResponse('Who is the recipient?')\n",
    "    recipient = myCommand()\n",
    "    if 'rajat' in recipient:\n",
    "        sofiaResponse('What should I say to him?')\n",
    "        content = myCommand()\n",
    "        mail = smtplib.SMTP('smtp.gmail.com', 587)\n",
    "        mail.ehlo()\n",
    "        mail.starttls()\n",
    "        mail.login('your_email_address', 'your_password')\n",
    "        mail.sendmail('sender_email', 'receiver_email', content)\n",
    "        mail.close()\n",
    "        sofiaResponse('Email has been sent successfuly. You can check your inbox.')\n",
    "    else:\n",
    "        sofiaResponse('I don\\'t know what you mean!')"
   ]
  },
  {
   "cell_type": "code",
   "execution_count": 25,
   "metadata": {},
   "outputs": [],
   "source": [
    "def launch(command):\n",
    "    reg_ex = re.search('launch (.*)', command)\n",
    "    if reg_ex:\n",
    "        appname = reg_ex.group(1)\n",
    "        #appname = appname.title()\n",
    "        appname1 = appname+\".exe\"\n",
    "        subprocess.Popen([\"open\", \"-n\", \"/Applications/\" + appname1], stdout=subprocess.PIPE)\n",
    "        sofiaResponse('I have launched the desired application')"
   ]
  },
  {
   "cell_type": "code",
   "execution_count": 26,
   "metadata": {},
   "outputs": [],
   "source": [
    "def playSong():\n",
    "    \n",
    "    path=\"D:\\\\\"\n",
    "    \n",
    "    mysong = \"kanda vara sollunga status\"\n",
    "    if mysong:\n",
    "        flag = 0\n",
    "        url = \"https://www.youtube.com/results?search_query=\" + mysong.replace(' ', '+')\n",
    "        response = urllib2.urlopen(url)\n",
    "        html = response.read()\n",
    "        soup1 = soup(html,\"lxml\")\n",
    "        url_list = []\n",
    "        for vid in soup1.findAll(attrs={'class':'yt-uix-tile-link'}):\n",
    "            if ('https://www.youtube.com' + vid['href']).startswith(\"https://www.youtube.com/watch?v=\"):\n",
    "                flag = 1\n",
    "                final_url = 'https://www.youtube.com' + vid['href']\n",
    "                url_list.append(final_url)\n",
    "                url = url_list[0]\n",
    "        ydl_opts = {}\n",
    "        os.chdir(path)\n",
    "        with youtube_dl.YoutubeDL(ydl_opts) as ydl:\n",
    "            ydl.download([url])\n",
    "        vlc.play(path)\n",
    "        if flag == 0:\n",
    "            sofiaResponse('I have not found anything in Youtube ')"
   ]
  },
  {
   "cell_type": "code",
   "execution_count": 27,
   "metadata": {},
   "outputs": [],
   "source": [
    "def changeWallpaper():\n",
    "    folder = '/Users/karthikn/Documents/wallpaper/'\n",
    "    for the_file in os.listdir(folder):\n",
    "        file_path = os.path.join(folder, the_file)\n",
    "        try:\n",
    "            if os.path.isfile(file_path):\n",
    "                os.unlink(file_path)\n",
    "        except Exception as e:\n",
    "            print(e)\n",
    "    api_key = 'fd66364c0ad9e0f8aabe54ec3cfbed0a947f3f4014ce3b841bf2ff6e20948795'\n",
    "    url = 'https://api.unsplash.com/photos/random?client_id=' + api_key\n",
    "    f = urllib2.urlopen(url)\n",
    "    json_string = f.read()\n",
    "    f.close()\n",
    "    parsed_json = json.loads(json_string)\n",
    "    photo = parsed_json['urls']['full']\n",
    "    urllib2.urlretrieve(photo, \"/Users/karthikn/Documents/wallpaper/a\")\n",
    "    subprocess.call([\"killall Dock\"], shell=True)\n",
    "    sofiaResponse('wallpaper changed successfully')"
   ]
  },
  {
   "cell_type": "code",
   "execution_count": 28,
   "metadata": {},
   "outputs": [],
   "source": [
    "def wiki(command):\n",
    "    reg_ex = re.search('tell me about (.*)', command)\n",
    "    try:\n",
    "        if reg_ex:\n",
    "            topic = reg_ex.group(1)\n",
    "            ny = wikipedia.page(topic)\n",
    "            sofiaResponse(ny.content[:500].encode('utf-8'))\n",
    "        \n",
    "    except Exception as e:\n",
    "        print(e)\n",
    "        sofiaResponse(e)\n",
    "        sofiaResponse('Hi User, I am Sofia and I am your personal voice assistant,\\\n",
    "        Please give a command or say \"help me\" and I will tell you what all I can do for you.')"
   ]
  },
  {
   "cell_type": "code",
   "execution_count": 40,
   "metadata": {},
   "outputs": [
    {
     "name": "stdout",
     "output_type": "stream",
     "text": [
      "Welcome Boss\n",
      "Enter 1 for command 2 for speech\n"
     ]
    },
    {
     "name": "stdin",
     "output_type": "stream",
     "text": [
      " 2\n"
     ]
    },
    {
     "ename": "AttributeError",
     "evalue": "Could not find PyAudio; check installation",
     "output_type": "error",
     "traceback": [
      "\u001b[0;31m---------------------------------------------------------------------------\u001b[0m",
      "\u001b[0;31mModuleNotFoundError\u001b[0m                       Traceback (most recent call last)",
      "\u001b[0;32m~/anaconda3/lib/python3.8/site-packages/speech_recognition/__init__.py\u001b[0m in \u001b[0;36mget_pyaudio\u001b[0;34m()\u001b[0m\n\u001b[1;32m    107\u001b[0m         \u001b[0;32mtry\u001b[0m\u001b[0;34m:\u001b[0m\u001b[0;34m\u001b[0m\u001b[0;34m\u001b[0m\u001b[0m\n\u001b[0;32m--> 108\u001b[0;31m             \u001b[0;32mimport\u001b[0m \u001b[0mpyaudio\u001b[0m\u001b[0;34m\u001b[0m\u001b[0;34m\u001b[0m\u001b[0m\n\u001b[0m\u001b[1;32m    109\u001b[0m         \u001b[0;32mexcept\u001b[0m \u001b[0mImportError\u001b[0m\u001b[0;34m:\u001b[0m\u001b[0;34m\u001b[0m\u001b[0;34m\u001b[0m\u001b[0m\n",
      "\u001b[0;31mModuleNotFoundError\u001b[0m: No module named 'pyaudio'",
      "\nDuring handling of the above exception, another exception occurred:\n",
      "\u001b[0;31mAttributeError\u001b[0m                            Traceback (most recent call last)",
      "\u001b[0;32m<ipython-input-40-6091ee1da027>\u001b[0m in \u001b[0;36m<module>\u001b[0;34m\u001b[0m\n\u001b[1;32m     59\u001b[0m         \u001b[0massistant\u001b[0m\u001b[0;34m(\u001b[0m\u001b[0mcommand\u001b[0m\u001b[0;34m)\u001b[0m\u001b[0;34m\u001b[0m\u001b[0;34m\u001b[0m\u001b[0m\n\u001b[1;32m     60\u001b[0m     \u001b[0;32melse\u001b[0m\u001b[0;34m:\u001b[0m\u001b[0;34m\u001b[0m\u001b[0;34m\u001b[0m\u001b[0m\n\u001b[0;32m---> 61\u001b[0;31m         \u001b[0massistant\u001b[0m\u001b[0;34m(\u001b[0m\u001b[0mmyCommand\u001b[0m\u001b[0;34m(\u001b[0m\u001b[0;34m)\u001b[0m\u001b[0;34m)\u001b[0m\u001b[0;34m\u001b[0m\u001b[0;34m\u001b[0m\u001b[0m\n\u001b[0m",
      "\u001b[0;32m<ipython-input-14-8dc7adf053b1>\u001b[0m in \u001b[0;36mmyCommand\u001b[0;34m()\u001b[0m\n\u001b[1;32m      2\u001b[0m     \u001b[0;34m\"listens for commands\"\u001b[0m\u001b[0;34m\u001b[0m\u001b[0;34m\u001b[0m\u001b[0m\n\u001b[1;32m      3\u001b[0m     \u001b[0mr\u001b[0m \u001b[0;34m=\u001b[0m \u001b[0msr\u001b[0m\u001b[0;34m.\u001b[0m\u001b[0mRecognizer\u001b[0m\u001b[0;34m(\u001b[0m\u001b[0;34m)\u001b[0m\u001b[0;34m\u001b[0m\u001b[0;34m\u001b[0m\u001b[0m\n\u001b[0;32m----> 4\u001b[0;31m     \u001b[0;32mwith\u001b[0m \u001b[0msr\u001b[0m\u001b[0;34m.\u001b[0m\u001b[0mMicrophone\u001b[0m\u001b[0;34m(\u001b[0m\u001b[0;34m)\u001b[0m \u001b[0;32mas\u001b[0m \u001b[0msource\u001b[0m\u001b[0;34m:\u001b[0m\u001b[0;34m\u001b[0m\u001b[0;34m\u001b[0m\u001b[0m\n\u001b[0m\u001b[1;32m      5\u001b[0m         \u001b[0mprint\u001b[0m\u001b[0;34m(\u001b[0m\u001b[0;34m'Say something...'\u001b[0m\u001b[0;34m)\u001b[0m\u001b[0;34m\u001b[0m\u001b[0;34m\u001b[0m\u001b[0m\n\u001b[1;32m      6\u001b[0m         \u001b[0mr\u001b[0m\u001b[0;34m.\u001b[0m\u001b[0mpause_threshold\u001b[0m \u001b[0;34m=\u001b[0m \u001b[0;36m1\u001b[0m\u001b[0;34m\u001b[0m\u001b[0;34m\u001b[0m\u001b[0m\n",
      "\u001b[0;32m~/anaconda3/lib/python3.8/site-packages/speech_recognition/__init__.py\u001b[0m in \u001b[0;36m__init__\u001b[0;34m(self, device_index, sample_rate, chunk_size)\u001b[0m\n\u001b[1;32m     77\u001b[0m \u001b[0;34m\u001b[0m\u001b[0m\n\u001b[1;32m     78\u001b[0m         \u001b[0;31m# set up PyAudio\u001b[0m\u001b[0;34m\u001b[0m\u001b[0;34m\u001b[0m\u001b[0;34m\u001b[0m\u001b[0m\n\u001b[0;32m---> 79\u001b[0;31m         \u001b[0mself\u001b[0m\u001b[0;34m.\u001b[0m\u001b[0mpyaudio_module\u001b[0m \u001b[0;34m=\u001b[0m \u001b[0mself\u001b[0m\u001b[0;34m.\u001b[0m\u001b[0mget_pyaudio\u001b[0m\u001b[0;34m(\u001b[0m\u001b[0;34m)\u001b[0m\u001b[0;34m\u001b[0m\u001b[0;34m\u001b[0m\u001b[0m\n\u001b[0m\u001b[1;32m     80\u001b[0m         \u001b[0maudio\u001b[0m \u001b[0;34m=\u001b[0m \u001b[0mself\u001b[0m\u001b[0;34m.\u001b[0m\u001b[0mpyaudio_module\u001b[0m\u001b[0;34m.\u001b[0m\u001b[0mPyAudio\u001b[0m\u001b[0;34m(\u001b[0m\u001b[0;34m)\u001b[0m\u001b[0;34m\u001b[0m\u001b[0;34m\u001b[0m\u001b[0m\n\u001b[1;32m     81\u001b[0m         \u001b[0;32mtry\u001b[0m\u001b[0;34m:\u001b[0m\u001b[0;34m\u001b[0m\u001b[0;34m\u001b[0m\u001b[0m\n",
      "\u001b[0;32m~/anaconda3/lib/python3.8/site-packages/speech_recognition/__init__.py\u001b[0m in \u001b[0;36mget_pyaudio\u001b[0;34m()\u001b[0m\n\u001b[1;32m    108\u001b[0m             \u001b[0;32mimport\u001b[0m \u001b[0mpyaudio\u001b[0m\u001b[0;34m\u001b[0m\u001b[0;34m\u001b[0m\u001b[0m\n\u001b[1;32m    109\u001b[0m         \u001b[0;32mexcept\u001b[0m \u001b[0mImportError\u001b[0m\u001b[0;34m:\u001b[0m\u001b[0;34m\u001b[0m\u001b[0;34m\u001b[0m\u001b[0m\n\u001b[0;32m--> 110\u001b[0;31m             \u001b[0;32mraise\u001b[0m \u001b[0mAttributeError\u001b[0m\u001b[0;34m(\u001b[0m\u001b[0;34m\"Could not find PyAudio; check installation\"\u001b[0m\u001b[0;34m)\u001b[0m\u001b[0;34m\u001b[0m\u001b[0;34m\u001b[0m\u001b[0m\n\u001b[0m\u001b[1;32m    111\u001b[0m         \u001b[0;32mfrom\u001b[0m \u001b[0mdistutils\u001b[0m\u001b[0;34m.\u001b[0m\u001b[0mversion\u001b[0m \u001b[0;32mimport\u001b[0m \u001b[0mLooseVersion\u001b[0m\u001b[0;34m\u001b[0m\u001b[0;34m\u001b[0m\u001b[0m\n\u001b[1;32m    112\u001b[0m         \u001b[0;32mif\u001b[0m \u001b[0mLooseVersion\u001b[0m\u001b[0;34m(\u001b[0m\u001b[0mpyaudio\u001b[0m\u001b[0;34m.\u001b[0m\u001b[0m__version__\u001b[0m\u001b[0;34m)\u001b[0m \u001b[0;34m<\u001b[0m \u001b[0mLooseVersion\u001b[0m\u001b[0;34m(\u001b[0m\u001b[0;34m\"0.2.11\"\u001b[0m\u001b[0;34m)\u001b[0m\u001b[0;34m:\u001b[0m\u001b[0;34m\u001b[0m\u001b[0;34m\u001b[0m\u001b[0m\n",
      "\u001b[0;31mAttributeError\u001b[0m: Could not find PyAudio; check installation"
     ]
    }
   ],
   "source": [
    "\n",
    "def assistant(command):\n",
    "    \n",
    "    if 'open reddit' in command:\n",
    "        reddit(command)\n",
    "        \n",
    "    elif 'shutdown' in command:\n",
    "        shutDown()\n",
    "        \n",
    "    elif 'open' in command:\n",
    "        openWebsite(command)\n",
    "        \n",
    "        \n",
    "    elif 'hello' in command:\n",
    "        greetings()\n",
    "        \n",
    "    elif 'help me' in command:\n",
    "        helpMe()\n",
    "        \n",
    "    elif 'joke' in command:\n",
    "        joke()\n",
    "       \n",
    "    elif 'news' in command:\n",
    "        news()\n",
    "        \n",
    "    elif 'weather' in command:\n",
    "        weather(command)\n",
    "\n",
    "    elif 'time' in command:\n",
    "        time()\n",
    "\n",
    "    elif 'email' in command:\n",
    "        email()\n",
    "\n",
    "    elif 'launch' in command:\n",
    "        launch(command)\n",
    "\n",
    "    elif 'play me a song' in command:\n",
    "        playSong()\n",
    "\n",
    "    elif 'change wallpaper' in command:\n",
    "        changeWallpaper()\n",
    "        \n",
    "        \n",
    "    elif 'tell me about' in command:\n",
    "        wiki(command)\n",
    "\n",
    "    else:\n",
    "        print(\"I can't understand what you are  saying\")\n",
    "\n",
    "        \n",
    "print(\"Welcome Boss\")\n",
    "print(\"Enter 1 for command 2 for speech\")\n",
    "op = input()\n",
    "op=int(op)\n",
    "while True:\n",
    "    if(op==1):\n",
    "        print(\"Enter command\")\n",
    "        command = input()\n",
    "        assistant(command)\n",
    "    else:\n",
    "        assistant(myCommand())"
   ]
  },
  {
   "cell_type": "code",
   "execution_count": 36,
   "metadata": {},
   "outputs": [
    {
     "name": "stderr",
     "output_type": "stream",
     "text": [
      "[nltk_data] Downloading package punkt to /home/karthikn/nltk_data...\n",
      "[nltk_data]   Unzipping tokenizers/punkt.zip.\n"
     ]
    },
    {
     "data": {
      "text/plain": [
       "True"
      ]
     },
     "execution_count": 36,
     "metadata": {},
     "output_type": "execute_result"
    }
   ],
   "source": [
    "import nltk\n",
    "nltk.download(\"punkt\")"
   ]
  },
  {
   "cell_type": "code",
   "execution_count": 38,
   "metadata": {},
   "outputs": [
    {
     "data": {
      "text/plain": [
       "['What', 'is', 'Weather', 'in', 'in', 'TamilNadu']"
      ]
     },
     "execution_count": 38,
     "metadata": {},
     "output_type": "execute_result"
    }
   ],
   "source": [
    "sentence = \"What is Weather in in TamilNadu\"\n",
    "tokens = nltk.word_tokenize(sentence)\n",
    "tokens"
   ]
  },
  {
   "cell_type": "code",
   "execution_count": null,
   "metadata": {},
   "outputs": [],
   "source": []
  }
 ],
 "metadata": {
  "kernelspec": {
   "display_name": "Python 3",
   "language": "python",
   "name": "python3"
  },
  "language_info": {
   "codemirror_mode": {
    "name": "ipython",
    "version": 3
   },
   "file_extension": ".py",
   "mimetype": "text/x-python",
   "name": "python",
   "nbconvert_exporter": "python",
   "pygments_lexer": "ipython3",
   "version": "3.8.5"
  }
 },
 "nbformat": 4,
 "nbformat_minor": 4
}
